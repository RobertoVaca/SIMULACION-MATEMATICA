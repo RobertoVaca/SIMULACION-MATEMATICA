{
 "cells": [
  {
   "cell_type": "markdown",
   "id": "2931f91f",
   "metadata": {},
   "source": [
    "# Presentación\n",
    "Hola, mi nombre es José Roberto Vaca Alvarado, voy en tercer semestre de Ingeniería Civil.\n",
    "Soy de Culiacán pero llevo 10 años viviendo aquí en Guadalajara.\n",
    "Me gusta jugar Basket y ver series.\n",
    "\n",
    "# Cimentaciones\n",
    "El tema que voy a introducir que está relacionado a mi carrera, es el tema de las cimentaciones.\n",
    "\n",
    "El término **cimentación** hace referencia al conjunto de elementos estructurales cuya misión consiste en conectar y transmitir las cargas de la construcción al suelo. Existen diferentes tipos de cimentaciones en función de la distancia a la que se sitúa la cota del apoyo. \n",
    "\n",
    "_Las cimentaciones directas o superficiales más frecuentes son:\n",
    "1. Zapatas aisladas \n",
    "2. Zapatas combinadas o corridas\n",
    "3. Zapatas medianeras \n",
    "4. Losas de cimentación\n",
    "5. Emparrillados"
   ]
  }
 ],
 "metadata": {
  "kernelspec": {
   "display_name": "Python 3 (ipykernel)",
   "language": "python",
   "name": "python3"
  },
  "language_info": {
   "codemirror_mode": {
    "name": "ipython",
    "version": 3
   },
   "file_extension": ".py",
   "mimetype": "text/x-python",
   "name": "python",
   "nbconvert_exporter": "python",
   "pygments_lexer": "ipython3",
   "version": "3.9.7"
  }
 },
 "nbformat": 4,
 "nbformat_minor": 5
}
