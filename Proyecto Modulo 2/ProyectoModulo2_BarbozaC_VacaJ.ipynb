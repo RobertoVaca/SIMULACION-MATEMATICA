{
 "cells": [
  {
   "cell_type": "markdown",
   "id": "6b5d47ac",
   "metadata": {},
   "source": [
    "# Proyecto modulo 2 - Integración montecarlo"
   ]
  },
  {
   "cell_type": "code",
   "execution_count": 2,
   "id": "33894164",
   "metadata": {},
   "outputs": [],
   "source": [
    "#Importamos las librerias\n",
    "import numpy as np\n",
    "import matplotlib.pyplot as plt\n",
    "import random \n",
    "import pandas as pd\n",
    "%matplotlib inline"
   ]
  },
  {
   "cell_type": "markdown",
   "id": "abee6ce0",
   "metadata": {},
   "source": [
    "Definimos nuestra funcion montecarlo tipo 1"
   ]
  },
  {
   "cell_type": "code",
   "execution_count": 3,
   "id": "49ab2847",
   "metadata": {},
   "outputs": [],
   "source": [
    "def montecarlo1(f,a,b,N):\n",
    "    u=np.random.uniform(a,b,size=N)\n",
    "    return np.mean(f(u)*(b-a))"
   ]
  },
  {
   "cell_type": "markdown",
   "id": "76cec56b",
   "metadata": {},
   "source": [
    "### Primera integral"
   ]
  },
  {
   "cell_type": "markdown",
   "id": "c779db6a",
   "metadata": {},
   "source": [
    "Primera funcion a integrar - Calores especificos [Cp]"
   ]
  },
  {
   "cell_type": "code",
   "execution_count": 4,
   "id": "cb129267",
   "metadata": {},
   "outputs": [],
   "source": [
    "def f1(x):\n",
    "    return(8.3145*(3.374 + 27.257*(10**-3)*x - 1.917*(10**-5)*x**2 - 0.616*(10**-8)*x**3 + 0.859*(10**-11)*x**4))"
   ]
  },
  {
   "cell_type": "markdown",
   "id": "1ac43e99",
   "metadata": {},
   "source": [
    "Realizamos la integral de los Cp"
   ]
  },
  {
   "cell_type": "code",
   "execution_count": 5,
   "id": "39aa9b26",
   "metadata": {},
   "outputs": [
    {
     "data": {
      "text/html": [
       "<div>\n",
       "<style scoped>\n",
       "    .dataframe tbody tr th:only-of-type {\n",
       "        vertical-align: middle;\n",
       "    }\n",
       "\n",
       "    .dataframe tbody tr th {\n",
       "        vertical-align: top;\n",
       "    }\n",
       "\n",
       "    .dataframe thead th {\n",
       "        text-align: right;\n",
       "    }\n",
       "</style>\n",
       "<table border=\"1\" class=\"dataframe\">\n",
       "  <thead>\n",
       "    <tr style=\"text-align: right;\">\n",
       "      <th></th>\n",
       "      <th>Cp</th>\n",
       "      <th>Entalpias</th>\n",
       "    </tr>\n",
       "  </thead>\n",
       "  <tbody>\n",
       "    <tr>\n",
       "      <th>300.0</th>\n",
       "      <td>161.535788</td>\n",
       "      <td>57361.535788</td>\n",
       "    </tr>\n",
       "    <tr>\n",
       "      <th>301.0</th>\n",
       "      <td>242.490966</td>\n",
       "      <td>57442.490966</td>\n",
       "    </tr>\n",
       "    <tr>\n",
       "      <th>302.0</th>\n",
       "      <td>323.570987</td>\n",
       "      <td>57523.570987</td>\n",
       "    </tr>\n",
       "    <tr>\n",
       "      <th>303.0</th>\n",
       "      <td>404.755774</td>\n",
       "      <td>57604.755774</td>\n",
       "    </tr>\n",
       "    <tr>\n",
       "      <th>304.0</th>\n",
       "      <td>486.076112</td>\n",
       "      <td>57686.076112</td>\n",
       "    </tr>\n",
       "    <tr>\n",
       "      <th>...</th>\n",
       "      <td>...</td>\n",
       "      <td>...</td>\n",
       "    </tr>\n",
       "    <tr>\n",
       "      <th>996.0</th>\n",
       "      <td>72237.355228</td>\n",
       "      <td>129437.355228</td>\n",
       "    </tr>\n",
       "    <tr>\n",
       "      <th>997.0</th>\n",
       "      <td>72435.546286</td>\n",
       "      <td>129635.546286</td>\n",
       "    </tr>\n",
       "    <tr>\n",
       "      <th>998.0</th>\n",
       "      <td>72446.018289</td>\n",
       "      <td>129646.018289</td>\n",
       "    </tr>\n",
       "    <tr>\n",
       "      <th>999.0</th>\n",
       "      <td>72510.352601</td>\n",
       "      <td>129710.352601</td>\n",
       "    </tr>\n",
       "    <tr>\n",
       "      <th>1000.0</th>\n",
       "      <td>72795.442255</td>\n",
       "      <td>129995.442255</td>\n",
       "    </tr>\n",
       "  </tbody>\n",
       "</table>\n",
       "<p>701 rows × 2 columns</p>\n",
       "</div>"
      ],
      "text/plain": [
       "                  Cp      Entalpias\n",
       "300.0     161.535788   57361.535788\n",
       "301.0     242.490966   57442.490966\n",
       "302.0     323.570987   57523.570987\n",
       "303.0     404.755774   57604.755774\n",
       "304.0     486.076112   57686.076112\n",
       "...              ...            ...\n",
       "996.0   72237.355228  129437.355228\n",
       "997.0   72435.546286  129635.546286\n",
       "998.0   72446.018289  129646.018289\n",
       "999.0   72510.352601  129710.352601\n",
       "1000.0  72795.442255  129995.442255\n",
       "\n",
       "[701 rows x 2 columns]"
      ]
     },
     "execution_count": 5,
     "metadata": {},
     "output_type": "execute_result"
    }
   ],
   "source": [
    "#Definimos el numero de N a evaluar\n",
    "N=10000\n",
    "\n",
    "#Definimos el rango a evaluar\n",
    "a=298 #Primer valor Temperatura/Limite inferior\n",
    "b=np.linspace(300,1000,num=701) #Segundo valor Temperatura/Limite superior\n",
    "H1=57200 #Entalpia a 298\n",
    "\n",
    "#Creamos la tabla\n",
    "tabla=pd.DataFrame()\n",
    "\n",
    "#Ciclo for para evaluar las integrales\n",
    "for i in b:  \n",
    "    tabla.loc[i,\"Cp\"]=montecarlo1(f1,a,i,int(N)) #Valores de los Cp´s\n",
    "    tabla.loc[i,\"Entalpias\"]=tabla.loc[i,\"Cp\"]+H1 #Valores de las entalpias de acuerdo a b\n",
    "    \n",
    "tabla"
   ]
  },
  {
   "cell_type": "markdown",
   "id": "0e37e160",
   "metadata": {},
   "source": [
    "Graficamos las entalpias"
   ]
  },
  {
   "cell_type": "code",
   "execution_count": 6,
   "id": "31460a04",
   "metadata": {},
   "outputs": [
    {
     "data": {
      "text/plain": [
       "Text(0, 0.5, 'Entalpia')"
      ]
     },
     "execution_count": 6,
     "metadata": {},
     "output_type": "execute_result"
    },
    {
     "data": {
      "image/png": "[encoded data removed]",
      "text/plain": [
       "<Figure size 432x288 with 1 Axes>"
      ]
     },
     "metadata": {
      "needs_background": "light"
     },
     "output_type": "display_data"
    }
   ],
   "source": [
    "tabla[\"Entalpias\"].plot(grid=True)\n",
    "plt.xlabel('Temperatura')\n",
    "plt.ylabel('Entalpia')"
   ]
  },
  {
   "cell_type": "markdown",
   "id": "81fa94bb",
   "metadata": {},
   "source": [
    "Ya con el valor de las entalpias encontramos las constantes de equilibrio"
   ]
  },
  {
   "cell_type": "markdown",
   "id": "3e5ab3c1",
   "metadata": {},
   "source": [
    "### Segunda integral"
   ]
  },
  {
   "cell_type": "markdown",
   "id": "c1cfa6b9",
   "metadata": {},
   "source": [
    "Extraemos el vector que nos importa de la tabla anterior"
   ]
  },
  {
   "cell_type": "code",
   "execution_count": 7,
   "id": "3b0aaba2",
   "metadata": {},
   "outputs": [],
   "source": [
    "Entalpias=np.asarray(tabla[\"Entalpias\"])"
   ]
  },
  {
   "cell_type": "markdown",
   "id": "03364e7a",
   "metadata": {},
   "source": [
    "Segunda funcion a integrar - Constantes de equilibrio [Ke]"
   ]
  },
  {
   "cell_type": "code",
   "execution_count": 8,
   "id": "1fa32d98",
   "metadata": {},
   "outputs": [],
   "source": [
    "def f2(Entalpias,x,b):\n",
    "    R=8.31446\n",
    "    return(Entalpias[int(b-300)]/(R*x**2))"
   ]
  },
  {
   "cell_type": "markdown",
   "id": "acaab479",
   "metadata": {},
   "source": [
    "Modificamos nuestra funcion montecarlo tipo 1"
   ]
  },
  {
   "cell_type": "code",
   "execution_count": 9,
   "id": "9a8648e7",
   "metadata": {},
   "outputs": [],
   "source": [
    "def montecarlo1_1(f,Entalpias,a,b,N):\n",
    "    u=np.random.uniform(a,b,size=N)\n",
    "    return np.mean(f(Entalpias,u,b)*(b-a))"
   ]
  },
  {
   "cell_type": "markdown",
   "id": "eca015e4",
   "metadata": {},
   "source": [
    "Realizamos la integral de las constantes de equilibrio"
   ]
  },
  {
   "cell_type": "code",
   "execution_count": 10,
   "id": "b4a51def",
   "metadata": {},
   "outputs": [
    {
     "data": {
      "text/html": [
       "<div>\n",
       "<style scoped>\n",
       "    .dataframe tbody tr th:only-of-type {\n",
       "        vertical-align: middle;\n",
       "    }\n",
       "\n",
       "    .dataframe tbody tr th {\n",
       "        vertical-align: top;\n",
       "    }\n",
       "\n",
       "    .dataframe thead th {\n",
       "        text-align: right;\n",
       "    }\n",
       "</style>\n",
       "<table border=\"1\" class=\"dataframe\">\n",
       "  <thead>\n",
       "    <tr style=\"text-align: right;\">\n",
       "      <th></th>\n",
       "      <th>Cp</th>\n",
       "      <th>Entalpias</th>\n",
       "      <th>Constantes de equilibrio</th>\n",
       "    </tr>\n",
       "  </thead>\n",
       "  <tbody>\n",
       "    <tr>\n",
       "      <th>300.0</th>\n",
       "      <td>161.535788</td>\n",
       "      <td>57361.535788</td>\n",
       "      <td>1.726988e-01</td>\n",
       "    </tr>\n",
       "    <tr>\n",
       "      <th>301.0</th>\n",
       "      <td>242.490966</td>\n",
       "      <td>57442.490966</td>\n",
       "      <td>1.864730e-01</td>\n",
       "    </tr>\n",
       "    <tr>\n",
       "      <th>302.0</th>\n",
       "      <td>323.570987</td>\n",
       "      <td>57523.570987</td>\n",
       "      <td>2.012863e-01</td>\n",
       "    </tr>\n",
       "    <tr>\n",
       "      <th>303.0</th>\n",
       "      <td>404.755774</td>\n",
       "      <td>57604.755774</td>\n",
       "      <td>2.172092e-01</td>\n",
       "    </tr>\n",
       "    <tr>\n",
       "      <th>304.0</th>\n",
       "      <td>486.076112</td>\n",
       "      <td>57686.076112</td>\n",
       "      <td>2.343311e-01</td>\n",
       "    </tr>\n",
       "    <tr>\n",
       "      <th>...</th>\n",
       "      <td>...</td>\n",
       "      <td>...</td>\n",
       "      <td>...</td>\n",
       "    </tr>\n",
       "    <tr>\n",
       "      <th>996.0</th>\n",
       "      <td>72237.355228</td>\n",
       "      <td>129437.355228</td>\n",
       "      <td>1.173735e+15</td>\n",
       "    </tr>\n",
       "    <tr>\n",
       "      <th>997.0</th>\n",
       "      <td>72435.546286</td>\n",
       "      <td>129635.546286</td>\n",
       "      <td>1.335450e+15</td>\n",
       "    </tr>\n",
       "    <tr>\n",
       "      <th>998.0</th>\n",
       "      <td>72446.018289</td>\n",
       "      <td>129646.018289</td>\n",
       "      <td>1.340016e+15</td>\n",
       "    </tr>\n",
       "    <tr>\n",
       "      <th>999.0</th>\n",
       "      <td>72510.352601</td>\n",
       "      <td>129710.352601</td>\n",
       "      <td>1.355083e+15</td>\n",
       "    </tr>\n",
       "    <tr>\n",
       "      <th>1000.0</th>\n",
       "      <td>72795.442255</td>\n",
       "      <td>129995.442255</td>\n",
       "      <td>1.468706e+15</td>\n",
       "    </tr>\n",
       "  </tbody>\n",
       "</table>\n",
       "<p>701 rows × 3 columns</p>\n",
       "</div>"
      ],
      "text/plain": [
       "                  Cp      Entalpias  Constantes de equilibrio\n",
       "300.0     161.535788   57361.535788              1.726988e-01\n",
       "301.0     242.490966   57442.490966              1.864730e-01\n",
       "302.0     323.570987   57523.570987              2.012863e-01\n",
       "303.0     404.755774   57604.755774              2.172092e-01\n",
       "304.0     486.076112   57686.076112              2.343311e-01\n",
       "...              ...            ...                       ...\n",
       "996.0   72237.355228  129437.355228              1.173735e+15\n",
       "997.0   72435.546286  129635.546286              1.335450e+15\n",
       "998.0   72446.018289  129646.018289              1.340016e+15\n",
       "999.0   72510.352601  129710.352601              1.355083e+15\n",
       "1000.0  72795.442255  129995.442255              1.468706e+15\n",
       "\n",
       "[701 rows x 3 columns]"
      ]
     },
     "execution_count": 10,
     "metadata": {},
     "output_type": "execute_result"
    }
   ],
   "source": [
    "#Definimos el numero de N a evaluar\n",
    "N=100000\n",
    "\n",
    "#Definimos el rango a evaluar\n",
    "a=298 #Primer valor Temperatura/Limite inferior\n",
    "b=np.linspace(300,1000,num=701) #Segundo valor Temperatura/Limite superior\n",
    "K1=0.148 #Constante de equilibrio a 298\n",
    "\n",
    "\n",
    "#Ciclo for para evaluar las integrales\n",
    "for i in b:  \n",
    "    tabla.loc[i,\"Constantes de equilibrio\"]=K1*np.e**montecarlo1_1(f2,Entalpias,a,i,int(N)) #Valores con las constantes de equilibrio\n",
    "    \n",
    "tabla"
   ]
  },
  {
   "cell_type": "markdown",
   "id": "cc4950de",
   "metadata": {},
   "source": [
    "Graficamos las constantes de equilibrio"
   ]
  },
  {
   "cell_type": "code",
   "execution_count": 11,
   "id": "58b94f52",
   "metadata": {},
   "outputs": [
    {
     "data": {
      "text/plain": [
       "Text(0, 0.5, 'Constante de equilibrio')"
      ]
     },
     "execution_count": 11,
     "metadata": {},
     "output_type": "execute_result"
    },
    {
     "data": {
      "image/png": "[encoded data removed]",
      "text/plain": [
       "<Figure size 432x288 with 1 Axes>"
      ]
     },
     "metadata": {
      "needs_background": "light"
     },
     "output_type": "display_data"
    }
   ],
   "source": [
    "tabla[\"Constantes de equilibrio\"].plot(grid=True)\n",
    "plt.xlabel('Temperatura')\n",
    "plt.ylabel('Constante de equilibrio')"
   ]
  }
 ],
 "metadata": {
  "kernelspec": {
   "display_name": "Python 3 (ipykernel)",
   "language": "python",
   "name": "python3"
  },
  "language_info": {
   "codemirror_mode": {
    "name": "ipython",
    "version": 3
   },
   "file_extension": ".py",
   "mimetype": "text/x-python",
   "name": "python",
   "nbconvert_exporter": "python",
   "pygments_lexer": "ipython3",
   "version": "3.9.7"
  }
 },
 "nbformat": 4,
 "nbformat_minor": 5
}
