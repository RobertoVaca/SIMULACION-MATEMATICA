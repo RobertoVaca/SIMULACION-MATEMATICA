{
 "cells": [
  {
   "cell_type": "markdown",
   "metadata": {},
   "source": [
    "# Proyecto modulo I - Ajutes de curvas"
   ]
  },
  {
   "cell_type": "code",
   "execution_count": 95,
   "metadata": {},
   "outputs": [],
   "source": [
    "#Importamos librerias\n",
    "import numpy as np\n",
    "import pandas as pd\n",
    "import scipy.optimize as op\n",
    "import matplotlib.pyplot as plt\n",
    "%matplotlib inline"
   ]
  },
  {
   "cell_type": "markdown",
   "metadata": {},
   "source": [
    "De acuerdo al Banco mundial se tienen los siguientes datos con respecto al porcentaje de acceso a la electricidad por parte de la poblacion de 266 paises."
   ]
  },
  {
   "cell_type": "code",
   "execution_count": 2,
   "metadata": {},
   "outputs": [
    {
     "data": {
      "text/html": [
       "<div>\n",
       "<style scoped>\n",
       "    .dataframe tbody tr th:only-of-type {\n",
       "        vertical-align: middle;\n",
       "    }\n",
       "\n",
       "    .dataframe tbody tr th {\n",
       "        vertical-align: top;\n",
       "    }\n",
       "\n",
       "    .dataframe thead th {\n",
       "        text-align: right;\n",
       "    }\n",
       "</style>\n",
       "<table border=\"1\" class=\"dataframe\">\n",
       "  <thead>\n",
       "    <tr style=\"text-align: right;\">\n",
       "      <th></th>\n",
       "      <th>Country Name</th>\n",
       "      <th>Country Code</th>\n",
       "      <th>Indicator Name</th>\n",
       "      <th>Indicator Code</th>\n",
       "      <th>1960</th>\n",
       "      <th>1961</th>\n",
       "      <th>1962</th>\n",
       "      <th>1963</th>\n",
       "      <th>1964</th>\n",
       "      <th>1965</th>\n",
       "      <th>...</th>\n",
       "      <th>2011</th>\n",
       "      <th>2012</th>\n",
       "      <th>2013</th>\n",
       "      <th>2014</th>\n",
       "      <th>2015</th>\n",
       "      <th>2016</th>\n",
       "      <th>2017</th>\n",
       "      <th>2018</th>\n",
       "      <th>2019</th>\n",
       "      <th>2020</th>\n",
       "    </tr>\n",
       "  </thead>\n",
       "  <tbody>\n",
       "    <tr>\n",
       "      <th>0</th>\n",
       "      <td>Aruba</td>\n",
       "      <td>ABW</td>\n",
       "      <td>Access to electricity (% of population)</td>\n",
       "      <td>EG.ELC.ACCS.ZS</td>\n",
       "      <td>NaN</td>\n",
       "      <td>NaN</td>\n",
       "      <td>NaN</td>\n",
       "      <td>NaN</td>\n",
       "      <td>NaN</td>\n",
       "      <td>NaN</td>\n",
       "      <td>...</td>\n",
       "      <td>100.000000</td>\n",
       "      <td>100.000000</td>\n",
       "      <td>100.000000</td>\n",
       "      <td>100.000000</td>\n",
       "      <td>100.000000</td>\n",
       "      <td>100.000000</td>\n",
       "      <td>100.000000</td>\n",
       "      <td>100.000000</td>\n",
       "      <td>100.000000</td>\n",
       "      <td>NaN</td>\n",
       "    </tr>\n",
       "    <tr>\n",
       "      <th>1</th>\n",
       "      <td>Africa Eastern and Southern</td>\n",
       "      <td>AFE</td>\n",
       "      <td>Access to electricity (% of population)</td>\n",
       "      <td>EG.ELC.ACCS.ZS</td>\n",
       "      <td>NaN</td>\n",
       "      <td>NaN</td>\n",
       "      <td>NaN</td>\n",
       "      <td>NaN</td>\n",
       "      <td>NaN</td>\n",
       "      <td>NaN</td>\n",
       "      <td>...</td>\n",
       "      <td>28.381836</td>\n",
       "      <td>32.224027</td>\n",
       "      <td>32.046478</td>\n",
       "      <td>31.323579</td>\n",
       "      <td>33.312163</td>\n",
       "      <td>38.380433</td>\n",
       "      <td>39.754201</td>\n",
       "      <td>42.168241</td>\n",
       "      <td>43.640661</td>\n",
       "      <td>NaN</td>\n",
       "    </tr>\n",
       "    <tr>\n",
       "      <th>2</th>\n",
       "      <td>Afghanistan</td>\n",
       "      <td>AFG</td>\n",
       "      <td>Access to electricity (% of population)</td>\n",
       "      <td>EG.ELC.ACCS.ZS</td>\n",
       "      <td>NaN</td>\n",
       "      <td>NaN</td>\n",
       "      <td>NaN</td>\n",
       "      <td>NaN</td>\n",
       "      <td>NaN</td>\n",
       "      <td>NaN</td>\n",
       "      <td>...</td>\n",
       "      <td>43.222019</td>\n",
       "      <td>69.100000</td>\n",
       "      <td>68.982941</td>\n",
       "      <td>89.500000</td>\n",
       "      <td>71.500000</td>\n",
       "      <td>97.700000</td>\n",
       "      <td>97.700000</td>\n",
       "      <td>98.715622</td>\n",
       "      <td>97.700000</td>\n",
       "      <td>NaN</td>\n",
       "    </tr>\n",
       "    <tr>\n",
       "      <th>3</th>\n",
       "      <td>Africa Western and Central</td>\n",
       "      <td>AFW</td>\n",
       "      <td>Access to electricity (% of population)</td>\n",
       "      <td>EG.ELC.ACCS.ZS</td>\n",
       "      <td>NaN</td>\n",
       "      <td>NaN</td>\n",
       "      <td>NaN</td>\n",
       "      <td>NaN</td>\n",
       "      <td>NaN</td>\n",
       "      <td>NaN</td>\n",
       "      <td>...</td>\n",
       "      <td>45.901299</td>\n",
       "      <td>44.130354</td>\n",
       "      <td>47.018163</td>\n",
       "      <td>47.745499</td>\n",
       "      <td>46.752279</td>\n",
       "      <td>50.948939</td>\n",
       "      <td>48.848205</td>\n",
       "      <td>51.253253</td>\n",
       "      <td>51.341421</td>\n",
       "      <td>NaN</td>\n",
       "    </tr>\n",
       "    <tr>\n",
       "      <th>4</th>\n",
       "      <td>Angola</td>\n",
       "      <td>AGO</td>\n",
       "      <td>Access to electricity (% of population)</td>\n",
       "      <td>EG.ELC.ACCS.ZS</td>\n",
       "      <td>NaN</td>\n",
       "      <td>NaN</td>\n",
       "      <td>NaN</td>\n",
       "      <td>NaN</td>\n",
       "      <td>NaN</td>\n",
       "      <td>NaN</td>\n",
       "      <td>...</td>\n",
       "      <td>34.600000</td>\n",
       "      <td>37.101025</td>\n",
       "      <td>38.248993</td>\n",
       "      <td>32.000000</td>\n",
       "      <td>42.000000</td>\n",
       "      <td>41.797379</td>\n",
       "      <td>43.001610</td>\n",
       "      <td>45.290000</td>\n",
       "      <td>45.670315</td>\n",
       "      <td>NaN</td>\n",
       "    </tr>\n",
       "    <tr>\n",
       "      <th>...</th>\n",
       "      <td>...</td>\n",
       "      <td>...</td>\n",
       "      <td>...</td>\n",
       "      <td>...</td>\n",
       "      <td>...</td>\n",
       "      <td>...</td>\n",
       "      <td>...</td>\n",
       "      <td>...</td>\n",
       "      <td>...</td>\n",
       "      <td>...</td>\n",
       "      <td>...</td>\n",
       "      <td>...</td>\n",
       "      <td>...</td>\n",
       "      <td>...</td>\n",
       "      <td>...</td>\n",
       "      <td>...</td>\n",
       "      <td>...</td>\n",
       "      <td>...</td>\n",
       "      <td>...</td>\n",
       "      <td>...</td>\n",
       "      <td>...</td>\n",
       "    </tr>\n",
       "    <tr>\n",
       "      <th>261</th>\n",
       "      <td>Kosovo</td>\n",
       "      <td>XKX</td>\n",
       "      <td>Access to electricity (% of population)</td>\n",
       "      <td>EG.ELC.ACCS.ZS</td>\n",
       "      <td>NaN</td>\n",
       "      <td>NaN</td>\n",
       "      <td>NaN</td>\n",
       "      <td>NaN</td>\n",
       "      <td>NaN</td>\n",
       "      <td>NaN</td>\n",
       "      <td>...</td>\n",
       "      <td>100.000000</td>\n",
       "      <td>99.750000</td>\n",
       "      <td>99.750000</td>\n",
       "      <td>99.680000</td>\n",
       "      <td>99.860000</td>\n",
       "      <td>99.800000</td>\n",
       "      <td>99.800000</td>\n",
       "      <td>100.000000</td>\n",
       "      <td>100.000000</td>\n",
       "      <td>NaN</td>\n",
       "    </tr>\n",
       "    <tr>\n",
       "      <th>262</th>\n",
       "      <td>Yemen, Rep.</td>\n",
       "      <td>YEM</td>\n",
       "      <td>Access to electricity (% of population)</td>\n",
       "      <td>EG.ELC.ACCS.ZS</td>\n",
       "      <td>NaN</td>\n",
       "      <td>NaN</td>\n",
       "      <td>NaN</td>\n",
       "      <td>NaN</td>\n",
       "      <td>NaN</td>\n",
       "      <td>NaN</td>\n",
       "      <td>...</td>\n",
       "      <td>61.885273</td>\n",
       "      <td>52.410000</td>\n",
       "      <td>75.600000</td>\n",
       "      <td>66.100000</td>\n",
       "      <td>67.396667</td>\n",
       "      <td>68.918709</td>\n",
       "      <td>79.200000</td>\n",
       "      <td>62.000000</td>\n",
       "      <td>72.751701</td>\n",
       "      <td>NaN</td>\n",
       "    </tr>\n",
       "    <tr>\n",
       "      <th>263</th>\n",
       "      <td>South Africa</td>\n",
       "      <td>ZAF</td>\n",
       "      <td>Access to electricity (% of population)</td>\n",
       "      <td>EG.ELC.ACCS.ZS</td>\n",
       "      <td>NaN</td>\n",
       "      <td>NaN</td>\n",
       "      <td>NaN</td>\n",
       "      <td>NaN</td>\n",
       "      <td>NaN</td>\n",
       "      <td>NaN</td>\n",
       "      <td>...</td>\n",
       "      <td>83.600000</td>\n",
       "      <td>85.300000</td>\n",
       "      <td>85.200000</td>\n",
       "      <td>86.000000</td>\n",
       "      <td>85.300000</td>\n",
       "      <td>84.200000</td>\n",
       "      <td>84.400000</td>\n",
       "      <td>84.700000</td>\n",
       "      <td>85.000000</td>\n",
       "      <td>NaN</td>\n",
       "    </tr>\n",
       "    <tr>\n",
       "      <th>264</th>\n",
       "      <td>Zambia</td>\n",
       "      <td>ZMB</td>\n",
       "      <td>Access to electricity (% of population)</td>\n",
       "      <td>EG.ELC.ACCS.ZS</td>\n",
       "      <td>NaN</td>\n",
       "      <td>NaN</td>\n",
       "      <td>NaN</td>\n",
       "      <td>NaN</td>\n",
       "      <td>NaN</td>\n",
       "      <td>NaN</td>\n",
       "      <td>...</td>\n",
       "      <td>26.617790</td>\n",
       "      <td>27.340553</td>\n",
       "      <td>28.087427</td>\n",
       "      <td>27.900000</td>\n",
       "      <td>31.100000</td>\n",
       "      <td>35.173164</td>\n",
       "      <td>40.300000</td>\n",
       "      <td>39.822304</td>\n",
       "      <td>43.000000</td>\n",
       "      <td>NaN</td>\n",
       "    </tr>\n",
       "    <tr>\n",
       "      <th>265</th>\n",
       "      <td>Zimbabwe</td>\n",
       "      <td>ZWE</td>\n",
       "      <td>Access to electricity (% of population)</td>\n",
       "      <td>EG.ELC.ACCS.ZS</td>\n",
       "      <td>NaN</td>\n",
       "      <td>NaN</td>\n",
       "      <td>NaN</td>\n",
       "      <td>NaN</td>\n",
       "      <td>NaN</td>\n",
       "      <td>NaN</td>\n",
       "      <td>...</td>\n",
       "      <td>36.900000</td>\n",
       "      <td>44.000000</td>\n",
       "      <td>38.336353</td>\n",
       "      <td>32.300000</td>\n",
       "      <td>33.700000</td>\n",
       "      <td>39.676228</td>\n",
       "      <td>40.144283</td>\n",
       "      <td>40.616360</td>\n",
       "      <td>41.089108</td>\n",
       "      <td>NaN</td>\n",
       "    </tr>\n",
       "  </tbody>\n",
       "</table>\n",
       "<p>266 rows × 65 columns</p>\n",
       "</div>"
      ],
      "text/plain": [
       "                    Country Name Country Code  \\\n",
       "0                          Aruba          ABW   \n",
       "1    Africa Eastern and Southern          AFE   \n",
       "2                    Afghanistan          AFG   \n",
       "3     Africa Western and Central          AFW   \n",
       "4                         Angola          AGO   \n",
       "..                           ...          ...   \n",
       "261                       Kosovo          XKX   \n",
       "262                  Yemen, Rep.          YEM   \n",
       "263                 South Africa          ZAF   \n",
       "264                       Zambia          ZMB   \n",
       "265                     Zimbabwe          ZWE   \n",
       "\n",
       "                              Indicator Name  Indicator Code  1960  1961  \\\n",
       "0    Access to electricity (% of population)  EG.ELC.ACCS.ZS   NaN   NaN   \n",
       "1    Access to electricity (% of population)  EG.ELC.ACCS.ZS   NaN   NaN   \n",
       "2    Access to electricity (% of population)  EG.ELC.ACCS.ZS   NaN   NaN   \n",
       "3    Access to electricity (% of population)  EG.ELC.ACCS.ZS   NaN   NaN   \n",
       "4    Access to electricity (% of population)  EG.ELC.ACCS.ZS   NaN   NaN   \n",
       "..                                       ...             ...   ...   ...   \n",
       "261  Access to electricity (% of population)  EG.ELC.ACCS.ZS   NaN   NaN   \n",
       "262  Access to electricity (% of population)  EG.ELC.ACCS.ZS   NaN   NaN   \n",
       "263  Access to electricity (% of population)  EG.ELC.ACCS.ZS   NaN   NaN   \n",
       "264  Access to electricity (% of population)  EG.ELC.ACCS.ZS   NaN   NaN   \n",
       "265  Access to electricity (% of population)  EG.ELC.ACCS.ZS   NaN   NaN   \n",
       "\n",
       "     1962  1963  1964  1965  ...        2011        2012        2013  \\\n",
       "0     NaN   NaN   NaN   NaN  ...  100.000000  100.000000  100.000000   \n",
       "1     NaN   NaN   NaN   NaN  ...   28.381836   32.224027   32.046478   \n",
       "2     NaN   NaN   NaN   NaN  ...   43.222019   69.100000   68.982941   \n",
       "3     NaN   NaN   NaN   NaN  ...   45.901299   44.130354   47.018163   \n",
       "4     NaN   NaN   NaN   NaN  ...   34.600000   37.101025   38.248993   \n",
       "..    ...   ...   ...   ...  ...         ...         ...         ...   \n",
       "261   NaN   NaN   NaN   NaN  ...  100.000000   99.750000   99.750000   \n",
       "262   NaN   NaN   NaN   NaN  ...   61.885273   52.410000   75.600000   \n",
       "263   NaN   NaN   NaN   NaN  ...   83.600000   85.300000   85.200000   \n",
       "264   NaN   NaN   NaN   NaN  ...   26.617790   27.340553   28.087427   \n",
       "265   NaN   NaN   NaN   NaN  ...   36.900000   44.000000   38.336353   \n",
       "\n",
       "           2014        2015        2016        2017        2018        2019  \\\n",
       "0    100.000000  100.000000  100.000000  100.000000  100.000000  100.000000   \n",
       "1     31.323579   33.312163   38.380433   39.754201   42.168241   43.640661   \n",
       "2     89.500000   71.500000   97.700000   97.700000   98.715622   97.700000   \n",
       "3     47.745499   46.752279   50.948939   48.848205   51.253253   51.341421   \n",
       "4     32.000000   42.000000   41.797379   43.001610   45.290000   45.670315   \n",
       "..          ...         ...         ...         ...         ...         ...   \n",
       "261   99.680000   99.860000   99.800000   99.800000  100.000000  100.000000   \n",
       "262   66.100000   67.396667   68.918709   79.200000   62.000000   72.751701   \n",
       "263   86.000000   85.300000   84.200000   84.400000   84.700000   85.000000   \n",
       "264   27.900000   31.100000   35.173164   40.300000   39.822304   43.000000   \n",
       "265   32.300000   33.700000   39.676228   40.144283   40.616360   41.089108   \n",
       "\n",
       "     2020  \n",
       "0     NaN  \n",
       "1     NaN  \n",
       "2     NaN  \n",
       "3     NaN  \n",
       "4     NaN  \n",
       "..    ...  \n",
       "261   NaN  \n",
       "262   NaN  \n",
       "263   NaN  \n",
       "264   NaN  \n",
       "265   NaN  \n",
       "\n",
       "[266 rows x 65 columns]"
      ]
     },
     "execution_count": 2,
     "metadata": {},
     "output_type": "execute_result"
    }
   ],
   "source": [
    "#Extraemos los datos\n",
    "data=pd.read_excel(\"C:\\\\Users\\Admin\\\\Documents\\\\ITESO\\\\6°Semestre\\\\Simulación matematica\\\\Semana 8\\\\Proyecto I\\\\Acesso a electricidad.xlsx\")\n",
    "data"
   ]
  },
  {
   "cell_type": "markdown",
   "metadata": {},
   "source": [
    "Elegiremos analizar los datos de la República centroafricana (#34) debido a sus números inusualmente bajos."
   ]
  },
  {
   "cell_type": "code",
   "execution_count": 3,
   "metadata": {},
   "outputs": [
    {
     "data": {
      "text/plain": [
       "1995          3.0\n",
       "1996     3.334916\n",
       "1997      3.83021\n",
       "1998     4.321425\n",
       "1999     4.807798\n",
       "2000          6.0\n",
       "2001     5.761562\n",
       "2002     6.226599\n",
       "2003     6.682173\n",
       "2004     7.127105\n",
       "2005     7.560375\n",
       "2006     7.805169\n",
       "2007     8.405599\n",
       "2008         7.48\n",
       "2009     9.263563\n",
       "2010          9.8\n",
       "2011    10.310723\n",
       "2012    10.894282\n",
       "2013    11.456543\n",
       "2014    12.052141\n",
       "2015    12.745728\n",
       "2016    13.498671\n",
       "2017    14.169054\n",
       "2018    14.653953\n",
       "2019         14.3\n",
       "2020          NaN\n",
       "Name: 34, dtype: object"
      ]
     },
     "execution_count": 3,
     "metadata": {},
     "output_type": "execute_result"
    }
   ],
   "source": [
    "data.iloc[34][\"1995\":] #Republica centro africana, 154 - México"
   ]
  },
  {
   "cell_type": "markdown",
   "metadata": {},
   "source": [
    "Gráficamos los datos, por simplicidad se iniciara la cuenta desde el año 1995 (Este año lo marcaremos como 0 y de ahi empezaremos a contar)."
   ]
  },
  {
   "cell_type": "code",
   "execution_count": 105,
   "metadata": {},
   "outputs": [
    {
     "data": {
      "image/png": "[encoded data removed]",
      "text/plain": [
       "<Figure size 432x288 with 1 Axes>"
      ]
     },
     "metadata": {
      "needs_background": "light"
     },
     "output_type": "display_data"
    }
   ],
   "source": [
    "#Generamos nuestras variables\n",
    "x1 = np.linspace(start= 0, \n",
    "                stop= len(data.iloc[34][\"1995\":])-1, \n",
    "                num=len(data.iloc[34][\"1995\":]))\n",
    "\n",
    "y1=data.iloc[34][\"1995\":]\n",
    "\n",
    "#Graficamos los datos \n",
    "plt.figure()\n",
    "plt.scatter(x1,y1, s=5)\n",
    "plt.xlabel(\"Año\")\n",
    "plt.ylabel(\"Porcentaje\")\n",
    "plt.grid()"
   ]
  },
  {
   "cell_type": "markdown",
   "metadata": {},
   "source": [
    "Ya con la grafica hacemos nuestras funciones para cada uno de los ajustes"
   ]
  },
  {
   "cell_type": "markdown",
   "metadata": {},
   "source": [
    "## Ajustes con polinomios"
   ]
  },
  {
   "cell_type": "markdown",
   "metadata": {},
   "source": [
    "Ajuste polinomio de 1°Orden"
   ]
  },
  {
   "cell_type": "code",
   "execution_count": 10,
   "metadata": {},
   "outputs": [],
   "source": [
    "#Hacemos nuestra funcion de costo para un polinomio de 1°Orden\n",
    "def funcion_costo_1(theta,x,y):\n",
    "    prediccion=theta[0]+theta[1]*x #Polinomio de primer orden\n",
    "    costo=y-prediccion\n",
    "    return np.sum(costo**2)\n",
    "\n",
    "#Valores de theta para el polinomio de 1°Orden\n",
    "theta_inicial_1=np.random.rand(2) #2 por el orden del polinomio\n",
    "\n",
    "sol1=op.minimize(funcion_costo_1,\n",
    "                theta_inicial_1,\n",
    "                args=(x1,y1))"
   ]
  },
  {
   "cell_type": "markdown",
   "metadata": {},
   "source": [
    "Ajuste polinomio de 2°Orden"
   ]
  },
  {
   "cell_type": "code",
   "execution_count": 11,
   "metadata": {},
   "outputs": [],
   "source": [
    "#Hacemos nuestra funcion de costo para un polinomio de 2°Orden\n",
    "def funcion_costo_2(theta,x,y):\n",
    "    prediccion=theta[0]+theta[1]*x+theta[2]*x**2 #Polinomio de segundo orden\n",
    "    costo=y-prediccion\n",
    "    return np.sum(costo**2)\n",
    "\n",
    "#Valores de theta para el polinomio de 2°Orden\n",
    "theta_inicial_2=np.random.rand(3) #3 por el orden del polinomio\n",
    "\n",
    "sol2=op.minimize(funcion_costo_2,\n",
    "                theta_inicial_2,\n",
    "                args=(x1,y1))"
   ]
  },
  {
   "cell_type": "markdown",
   "metadata": {},
   "source": [
    "Ajuste polinomio de 3°Orden"
   ]
  },
  {
   "cell_type": "code",
   "execution_count": 13,
   "metadata": {},
   "outputs": [],
   "source": [
    "#Hacemos nuestra funcion de costo para un polinomio de 3°Orden\n",
    "def funcion_costo_3(theta,x,y):\n",
    "    prediccion=theta[0]+theta[1]*x+theta[2]*x**2+theta[3]*x**3 #Polinomio de tercer orden\n",
    "    costo=y-prediccion\n",
    "    return np.sum(costo**2)\n",
    "\n",
    "#Valores de theta para el polinomio de 3°Orden\n",
    "theta_inicial_3=np.random.rand(4) #4 por el orden del polinomio\n",
    "\n",
    "sol3=op.minimize(funcion_costo_3,\n",
    "                theta_inicial_3,\n",
    "                args=(x1,y1))"
   ]
  },
  {
   "cell_type": "markdown",
   "metadata": {},
   "source": [
    "Ajuste polinomio de 4°Orden"
   ]
  },
  {
   "cell_type": "code",
   "execution_count": 14,
   "metadata": {},
   "outputs": [],
   "source": [
    "#Hacemos nuestra funcion de costo para un polinomio de 4°Orden\n",
    "def funcion_costo_4(theta,x,y):\n",
    "    prediccion=theta[0]+theta[1]*x+theta[2]*x**2+theta[3]*x**3+theta[4]*x**4 #Polinomio de cuarto orden\n",
    "    costo=y-prediccion\n",
    "    return np.sum(costo**2)\n",
    "\n",
    "#Valores de theta para el polinomio de 4°Orden\n",
    "theta_inicial_4=np.random.rand(5) #5 por el orden del polinomio\n",
    "\n",
    "sol4=op.minimize(funcion_costo_4,\n",
    "                theta_inicial_4,\n",
    "                args=(x1,y1))"
   ]
  },
  {
   "cell_type": "markdown",
   "metadata": {},
   "source": [
    "Ajuste polinomio de 5°Orden"
   ]
  },
  {
   "cell_type": "code",
   "execution_count": 15,
   "metadata": {},
   "outputs": [],
   "source": [
    "#Hacemos nuestra funcion de costo para un polinomio de 5°Orden\n",
    "def funcion_costo_5(theta,x,y):\n",
    "    prediccion=theta[0]+theta[1]*x+theta[2]*x**2+theta[3]*x**3+theta[4]*x**4+theta[5]*x**5 #Polinomio de quinto orden\n",
    "    costo=y-prediccion\n",
    "    return np.sum(costo**2)\n",
    "\n",
    "#Valores de theta para el polinomio de 5°Orden\n",
    "theta_inicial_5=np.random.rand(6) #6 por el orden del polinomio\n",
    "\n",
    "sol5=op.minimize(funcion_costo_5,\n",
    "                theta_inicial_5,\n",
    "                args=(x1,y1))"
   ]
  },
  {
   "cell_type": "markdown",
   "metadata": {},
   "source": [
    "Ajuste polinomio de 6°Orden"
   ]
  },
  {
   "cell_type": "code",
   "execution_count": 17,
   "metadata": {},
   "outputs": [],
   "source": [
    "#Hacemos nuestra funcion de costo para un polinomio de 6°Orden\n",
    "def funcion_costo_6(theta,x,y):\n",
    "    prediccion=theta[0]+theta[1]*x+theta[2]*x**2+theta[3]*x**3+theta[4]*x**4+theta[5]*x**5+theta[6]*x**6 #Polinomio de sexto orden\n",
    "    costo=y-prediccion\n",
    "    return np.sum(costo**2)\n",
    "\n",
    "#Valores de theta para el polinomio de 5°Orden\n",
    "theta_inicial_6=np.random.rand(7) #7 por el orden del polinomio\n",
    "\n",
    "sol6=op.minimize(funcion_costo_6,\n",
    "                theta_inicial_6,\n",
    "                args=(x1,y1))"
   ]
  },
  {
   "cell_type": "markdown",
   "metadata": {},
   "source": [
    "Ya con nuestras funciones graficamos cada uno de los ajustes con los datos originales"
   ]
  },
  {
   "cell_type": "code",
   "execution_count": 101,
   "metadata": {},
   "outputs": [
    {
     "data": {
      "image/png": "[encoded data removed]",
      "text/plain": [
       "<Figure size 432x288 with 1 Axes>"
      ]
     },
     "metadata": {
      "needs_background": "light"
     },
     "output_type": "display_data"
    }
   ],
   "source": [
    "#Graficamos los datos originales con la funcion de costo\n",
    "plt.figure()\n",
    "plt.scatter(x1, y1, s=5,label = 'Original') #Grafica original\n",
    "plt.plot(x1, sol1.x[0] + sol1.x[1]*x1, \"orange\",label = '1°Orden') #Grafica con polinomio 1°Orden\n",
    "plt.plot(x1, sol2.x[0] + sol2.x[1]*x1 + sol2.x[2]*x1**2, \"g\",label = '2°Orden') #Grafica con polinomio 2°Orden\n",
    "plt.plot(x1, sol3.x[0] + sol3.x[1]*x1 + sol3.x[2]*x1**2 + sol3.x[3]*x1**3, \"y\",label = '3°Orden') #Grafica con polinomio 3°Orden\n",
    "plt.plot(x1, sol4.x[0] + sol4.x[1]*x1 + sol4.x[2]*x1**2 + sol4.x[3]*x1**3 + sol4.x[4]*x1**4, \"b\",label = '4°Orden') #Grafica con polinomio 4°Orden\n",
    "plt.plot(x1, sol5.x[0] + sol5.x[1]*x1 + sol5.x[2]*x1**2 + sol5.x[3]*x1**3 + sol5.x[4]*x1**4 + sol5.x[5]*x1**5, \"r\",label = '5°Orden') #Grafica con polinomio 5°Orden\n",
    "plt.plot(x1, sol6.x[0] + sol6.x[1]*x1 + sol6.x[2]*x1**2 + sol6.x[3]*x1**3 + sol6.x[4]*x1**4 + sol6.x[5]*x1**5 + sol6.x[6]*x1**6, \"black\",label = '6°Orden')\n",
    "plt.legend(loc=2)\n",
    "plt.xlabel(\"Año\")\n",
    "plt.ylabel(\"Porcentaje\")\n",
    "plt.grid()"
   ]
  },
  {
   "cell_type": "markdown",
   "metadata": {},
   "source": [
    "Gráficando nuevamente los ajustes sin el último."
   ]
  },
  {
   "cell_type": "code",
   "execution_count": 102,
   "metadata": {},
   "outputs": [
    {
     "data": {
      "image/png": "[encoded data removed]",
      "text/plain": [
       "<Figure size 432x288 with 1 Axes>"
      ]
     },
     "metadata": {
      "needs_background": "light"
     },
     "output_type": "display_data"
    }
   ],
   "source": [
    "#Graficamos los datos originales con la funcion de costo\n",
    "plt.figure()\n",
    "plt.scatter(x1, y1, s=5,label = 'Original') #Grafica original\n",
    "plt.plot(x1, sol1.x[0] + sol1.x[1]*x1, \"orange\",label = '1°Orden') #Grafica con polinomio 1°Orden\n",
    "plt.plot(x1, sol2.x[0] + sol2.x[1]*x1 + sol2.x[2]*x1**2, \"g\",label = '2°Orden') #Grafica con polinomio 2°Orden\n",
    "plt.plot(x1, sol3.x[0] + sol3.x[1]*x1 + sol3.x[2]*x1**2 + sol3.x[3]*x1**3, \"y\",label = '3°Orden') #Grafica con polinomio 3°Orden\n",
    "plt.plot(x1, sol4.x[0] + sol4.x[1]*x1 + sol4.x[2]*x1**2 + sol4.x[3]*x1**3 + sol4.x[4]*x1**4, \"b\",label = '4°Orden') #Grafica con polinomio 4°Orden\n",
    "plt.plot(x1, sol5.x[0] + sol5.x[1]*x1 + sol5.x[2]*x1**2 + sol5.x[3]*x1**3 + sol5.x[4]*x1**4 + sol5.x[5]*x1**5, \"r\",label = '5°Orden') #Grafica con polinomio 5°Orden\n",
    "plt.legend(loc=2)\n",
    "plt.xlabel(\"Año\")\n",
    "plt.ylabel(\"Porcentaje\")\n",
    "plt.grid()"
   ]
  },
  {
   "cell_type": "markdown",
   "metadata": {},
   "source": [
    "De la gráfica anterior nos es dificil deducir cual de los modelos es el mejor puesto que los tres primeros son muy similares entre si por lo que utilizaremos los ajustes del polinomio de 2° y 3° orden.\n",
    "\n",
    "Graficando este ajuste en los datos originales."
   ]
  },
  {
   "cell_type": "code",
   "execution_count": 98,
   "metadata": {},
   "outputs": [
    {
     "data": {
      "image/png": "[encoded data removed]",
      "text/plain": [
       "<Figure size 432x288 with 1 Axes>"
      ]
     },
     "metadata": {
      "needs_background": "light"
     },
     "output_type": "display_data"
    }
   ],
   "source": [
    "#Graficamos los datos originales con el mejor ajuste\n",
    "plt.figure()\n",
    "plt.scatter(x1, y1, s=5,label='Original') #Grafica original\n",
    "plt.plot(x1, sol2.x[0] + sol2.x[1]*x1 + sol2.x[2]*x1**2, color='black', label = '2°Orden') #Grafica con polinomio 2°Orden\n",
    "plt.plot(x1, sol3.x[0] + sol3.x[1]*x1 + sol3.x[2]*x1**2 + sol3.x[3]*x1**3, color='r',label = '3°Orden') #Grafica con polinomio 3°Orden\n",
    "plt.legend(loc=2)\n",
    "plt.xlabel(\"Año\")\n",
    "plt.ylabel(\"Porcentaje\")\n",
    "plt.grid()"
   ]
  },
  {
   "cell_type": "markdown",
   "metadata": {},
   "source": [
    "Extrapolaremos los datos para ambos modelos para encontrar el año en que se llegue al 100%."
   ]
  },
  {
   "cell_type": "markdown",
   "metadata": {},
   "source": [
    "#### Modelo con polinomio de 3°Orden"
   ]
  },
  {
   "cell_type": "markdown",
   "metadata": {},
   "source": [
    "Para encontrar el año en que llega al 100%"
   ]
  },
  {
   "cell_type": "code",
   "execution_count": null,
   "metadata": {},
   "outputs": [],
   "source": [
    "xp2=0\n",
    "while(yp<100):\n",
    "    yp=sol3.x[0] + sol3.x[1]*xp + sol3.x[2]*xp**2 + sol3.x[3]*xp**3\n",
    "    xp2+=xp2\n",
    "xp2Para encontrar el año en que llega al 100% "
   ]
  },
  {
   "cell_type": "markdown",
   "metadata": {},
   "source": [
    "Encontramos que se necesitan 68 años a partir de 1995."
   ]
  },
  {
   "cell_type": "code",
   "execution_count": 78,
   "metadata": {},
   "outputs": [],
   "source": [
    "xp2=68\n",
    "x2 = np.linspace(start= 0, \n",
    "                stop= xp2, \n",
    "                num=xp2)"
   ]
  },
  {
   "cell_type": "code",
   "execution_count": 103,
   "metadata": {},
   "outputs": [
    {
     "data": {
      "image/png": "[encoded data removed]",
      "text/plain": [
       "<Figure size 432x288 with 1 Axes>"
      ]
     },
     "metadata": {
      "needs_background": "light"
     },
     "output_type": "display_data"
    }
   ],
   "source": [
    "#Gráficamos\n",
    "plt.figure()\n",
    "plt.scatter(x1, y1, s=5,label = 'Original') #Grafica original\n",
    "plt.plot(x2, sol3.x[0] + sol3.x[1]*x2 + sol3.x[2]*x2**2 + sol3.x[3]*x2**3, \"r\",label = '3°Orden') #Grafica con polinomio 3°Orden\n",
    "plt.plot(xp2,sol3.x[0] + sol3.x[1]*xp2 + sol3.x[2]*xp2**2 + sol3.x[3]*xp2**3,\"*\",ms=10)\n",
    "plt.legend(loc=2)\n",
    "plt.xlabel(\"Años\")\n",
    "plt.ylabel(\"Porcentaje\")\n",
    "plt.grid()"
   ]
  },
  {
   "cell_type": "markdown",
   "metadata": {},
   "source": [
    "Por lo que el 100% de la población en la República centroafricana tendra acceso a electricidad en:"
   ]
  },
  {
   "cell_type": "code",
   "execution_count": 88,
   "metadata": {},
   "outputs": [
    {
     "data": {
      "text/plain": [
       "2063"
      ]
     },
     "execution_count": 88,
     "metadata": {},
     "output_type": "execute_result"
    }
   ],
   "source": [
    "xp2+1995"
   ]
  },
  {
   "cell_type": "markdown",
   "metadata": {},
   "source": [
    "#### Modelo con polinomio de 2°Orden"
   ]
  },
  {
   "cell_type": "markdown",
   "metadata": {},
   "source": [
    "Para encontrar el año en que llega al 100%"
   ]
  },
  {
   "cell_type": "code",
   "execution_count": null,
   "metadata": {},
   "outputs": [],
   "source": [
    "xp3=0\n",
    "while(yp<100):\n",
    "    yp3=sol3.x[0] + sol3.x[1]*xp + sol3.x[2]*xp**2 + sol3.x[3]*xp**3\n",
    "    xp+=xp\n",
    "xp3 "
   ]
  },
  {
   "cell_type": "markdown",
   "metadata": {},
   "source": [
    "Encontramos que se necesitan 107 años a partir de 1995."
   ]
  },
  {
   "cell_type": "code",
   "execution_count": 81,
   "metadata": {},
   "outputs": [],
   "source": [
    "xp3=107\n",
    "x3 = np.linspace(start= 0, \n",
    "                stop= xp3, \n",
    "                num=xp3)"
   ]
  },
  {
   "cell_type": "code",
   "execution_count": 104,
   "metadata": {},
   "outputs": [
    {
     "data": {
      "image/png": "[encoded data removed]",
      "text/plain": [
       "<Figure size 432x288 with 1 Axes>"
      ]
     },
     "metadata": {
      "needs_background": "light"
     },
     "output_type": "display_data"
    }
   ],
   "source": [
    "#Gráficamos\n",
    "xp3=107\n",
    "yp=sol2.x[0] + sol2.x[1]*xp3 + sol2.x[2]*xp3**2\n",
    "plt.figure()\n",
    "plt.scatter(x1, y1, s=5,label = 'Original') #Grafica original\n",
    "plt.plot(x3, sol2.x[0] + sol2.x[1]*x3 + sol2.x[2]*x3**2, \"black\",label = '2°Orden') #Grafica con polinomio 2°Orden\n",
    "plt.plot(xp3,yp,\"*\",ms=10)\n",
    "plt.legend(loc=2)\n",
    "plt.xlabel(\"Años\")\n",
    "plt.ylabel(\"Porcentaje\")\n",
    "plt.grid()"
   ]
  },
  {
   "cell_type": "markdown",
   "metadata": {},
   "source": [
    "Por lo que el 100% de la población en la República centroafricana tendra acceso a electricidad en:"
   ]
  },
  {
   "cell_type": "code",
   "execution_count": 87,
   "metadata": {},
   "outputs": [
    {
     "data": {
      "text/plain": [
       "2102"
      ]
     },
     "execution_count": 87,
     "metadata": {},
     "output_type": "execute_result"
    }
   ],
   "source": [
    "xp3+1995"
   ]
  }
 ],
 "metadata": {
  "kernelspec": {
   "display_name": "Python 3 (ipykernel)",
   "language": "python",
   "name": "python3"
  },
  "language_info": {
   "codemirror_mode": {
    "name": "ipython",
    "version": 3
   },
   "file_extension": ".py",
   "mimetype": "text/x-python",
   "name": "python",
   "nbconvert_exporter": "python",
   "pygments_lexer": "ipython3",
   "version": "3.9.7"
  }
 },
 "nbformat": 4,
 "nbformat_minor": 2
}
